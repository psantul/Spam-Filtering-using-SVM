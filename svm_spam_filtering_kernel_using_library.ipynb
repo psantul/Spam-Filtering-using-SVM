{
  "nbformat": 4,
  "nbformat_minor": 0,
  "metadata": {
    "anaconda-cloud": {},
    "kernelspec": {
      "display_name": "Python 3",
      "language": "python",
      "name": "python3"
    },
    "language_info": {
      "codemirror_mode": {
        "name": "ipython",
        "version": 3
      },
      "file_extension": ".py",
      "mimetype": "text/x-python",
      "name": "python",
      "nbconvert_exporter": "python",
      "pygments_lexer": "ipython3",
      "version": "3.6.1"
    },
    "colab": {
      "name": "svm_spam_filtering_kernel.ipynb",
      "provenance": [],
      "toc_visible": true
    }
  },
  "cells": [
    {
      "cell_type": "markdown",
      "metadata": {
        "_cell_guid": "f169d7cf-818b-4815-a5be-76265e99d139",
        "_uuid": "25f02ffdb0d53b9663f351fa0c0f415d2bce15b1",
        "id": "pVtKgxjDNg45"
      },
      "source": [
        "#  Spam classification with Support Vector Machines."
      ]
    },
    {
      "cell_type": "markdown",
      "metadata": {
        "_cell_guid": "ba30922b-183b-4f2e-ac19-35ebc9dd865a",
        "_uuid": "e27ea858875f6d5698fcfb196b32160c8d761697",
        "id": "bYHvYV2HNg49"
      },
      "source": [
        "## Libraries"
      ]
    },
    {
      "cell_type": "code",
      "metadata": {
        "_cell_guid": "77dbf249-4662-4faf-ae30-654f5f76f5b1",
        "_uuid": "5eb96b9e55cca9f7dbc74128cd5933856b39aa51",
        "collapsed": true,
        "id": "WxRDN01QNg4-"
      },
      "source": [
        "import numpy as np\n",
        "import pandas as pd\n",
        "import matplotlib.pyplot as plt\n",
        "from collections import Counter\n",
        "from sklearn import feature_extraction, model_selection, metrics, svm\n",
        "from IPython.display import Image"
      ],
      "execution_count": 15,
      "outputs": []
    },
    {
      "cell_type": "markdown",
      "metadata": {
        "_cell_guid": "ab7471a7-9fda-4dc9-ba8b-6d4f0c1b92e1",
        "_uuid": "2a11f84b23cf786579a3beb1074c6e7375456b77",
        "id": "ByrjzNDGNg4-"
      },
      "source": [
        "## Exploring the Dataset"
      ]
    },
    {
      "cell_type": "code",
      "metadata": {
        "_cell_guid": "e8604809-62b9-47bd-84fa-92063d8ae5b3",
        "_uuid": "3a9038c1ea6026f8ae89cf052aa71c89bcb940dd",
        "scrolled": true,
        "id": "6qwChRWXNg4-"
      },
      "source": [
        "data = pd.read_csv('https://raw.githubusercontent.com/PriyushKumar/datasets/main/spam%20ham%20data%20set.csv', encoding='latin-1')"
      ],
      "execution_count": 16,
      "outputs": []
    },
    {
      "cell_type": "markdown",
      "metadata": {
        "_cell_guid": "2ed76eea-004a-42a0-a1c9-c45c092bbb4b",
        "_uuid": "d71ec916875461c07bdb1f9d53d9b0a7210de035",
        "id": "Yq7Uih7TNg4_"
      },
      "source": [
        "## Distribution spam/non-spam plots"
      ]
    },
    {
      "cell_type": "code",
      "metadata": {
        "_cell_guid": "74f9cf41-4793-4be5-a46e-bdb93067e973",
        "_uuid": "99a4b831313c23573b7972c65637d01dd497c6fe",
        "scrolled": true,
        "colab": {
          "base_uri": "https://localhost:8080/",
          "height": 354
        },
        "id": "vi-6LK9qNg4_",
        "outputId": "7683ce34-6779-4b3b-bfaf-0dc959b5958a"
      },
      "source": [
        "count_Class=pd.value_counts(data[\"v1\"], sort= True)\n",
        "count_Class.plot(kind= 'bar', color= [\"#8f9805\", (0.9, 0.2, 0.5, 0.2)])\n",
        "plt.title('Bar chart')\n",
        "plt.show()"
      ],
      "execution_count": 17,
      "outputs": [
        {
          "output_type": "stream",
          "text": [
            "/usr/local/lib/python3.7/dist-packages/matplotlib/colors.py:263: VisibleDeprecationWarning: Creating an ndarray from ragged nested sequences (which is a list-or-tuple of lists-or-tuples-or ndarrays with different lengths or shapes) is deprecated. If you meant to do this, you must specify 'dtype=object' when creating the ndarray\n",
            "  c = np.array(c)\n"
          ],
          "name": "stderr"
        },
        {
          "output_type": "display_data",
          "data": {
            "image/png": "[encoded data removed]",
            "text/plain": [
              "<Figure size 432x288 with 1 Axes>"
            ]
          },
          "metadata": {
            "tags": [],
            "needs_background": "light"
          }
        }
      ]
    },
    {
      "cell_type": "markdown",
      "metadata": {
        "_cell_guid": "ff53e1a6-a37b-4a31-9b41-c959296156de",
        "_uuid": "9ec51be1879d2987eef26632bc411a3577b42ae8",
        "id": "20f8yJl3Ng5A"
      },
      "source": [
        "## Text Analytics"
      ]
    },
    {
      "cell_type": "markdown",
      "metadata": {
        "_cell_guid": "6887a2a9-6c4c-42f1-92df-fdec4ae3f9f0",
        "_uuid": "47d3122a6fe0ed51dbe5775c7549695cce2a8470",
        "id": "-XaHQN3WNg5B"
      },
      "source": [
        "## Feature engineering"
      ]
    },
    {
      "cell_type": "code",
      "metadata": {
        "_cell_guid": "653bfeae-e298-44e3-b92c-78c0f747b8ef",
        "_uuid": "67b9147f254e720b0641d9a171333942ef529aba",
        "colab": {
          "base_uri": "https://localhost:8080/"
        },
        "id": "Ryk7eU2NNg5B",
        "outputId": "1cf2274e-0717-4ecc-8e43-5460b9154fa9"
      },
      "source": [
        "f = feature_extraction.text.CountVectorizer(stop_words = 'english')\n",
        "X = f.fit_transform(data[\"v2\"])\n",
        "np.shape(X)"
      ],
      "execution_count": 18,
      "outputs": [
        {
          "output_type": "execute_result",
          "data": {
            "text/plain": [
              "(5572, 8404)"
            ]
          },
          "metadata": {
            "tags": []
          },
          "execution_count": 18
        }
      ]
    },
    {
      "cell_type": "markdown",
      "metadata": {
        "_cell_guid": "448eda90-2493-46f0-a588-8e6e73b7e2d3",
        "_uuid": "1f0489faa50638217e4754ff0a8f26e5298752df",
        "id": "on41dD6_Ng5B"
      },
      "source": [
        "## Predictive Analysis"
      ]
    },
    {
      "cell_type": "code",
      "metadata": {
        "_cell_guid": "e5e2bee3-cdad-4ee6-9c59-f3a536195ed7",
        "_uuid": "ab65abc5fe63168bfea503db8e58e5ab03383a22",
        "colab": {
          "base_uri": "https://localhost:8080/"
        },
        "id": "Ym2jeUqaNg5C",
        "outputId": "ba8e7dcc-36d6-4481-ebf6-2860b16b8f26"
      },
      "source": [
        "data[\"v1\"]=data[\"v1\"].map({'spam':1,'ham':0})\n",
        "X_train, X_test, y_train, y_test = model_selection.train_test_split(X, data['v1'], test_size=0.5, random_state=1)\n",
        "print([np.shape(X_train), np.shape(X_test)])"
      ],
      "execution_count": 19,
      "outputs": [
        {
          "output_type": "stream",
          "text": [
            "[(2786, 8404), (2786, 8404)]\n"
          ],
          "name": "stdout"
        }
      ]
    },
    {
      "cell_type": "code",
      "metadata": {
        "id": "t_NJuzi8nCFT"
      },
      "source": [
        "def my_kernel(X, Y):\n",
        "  return np.dot(X, Y.T)"
      ],
      "execution_count": 20,
      "outputs": []
    },
    {
      "cell_type": "markdown",
      "metadata": {
        "_cell_guid": "edfcb798-4f74-4552-8bea-2617804eea56",
        "_uuid": "63efdf82c6e3aeabf14cc906cec456ba6f6a6ac0",
        "id": "8yN6nBqhNg5E"
      },
      "source": [
        "### Support Vector Machine"
      ]
    },
    {
      "cell_type": "code",
      "metadata": {
        "id": "IuveVVvIvQfQ"
      },
      "source": [
        "list_C = np.arange(100, 200, 300) #100000\n",
        "train_res = []\n",
        "krnl = ['linear','sigmoid','rbf','poly']\n",
        "for i in krnl:\n",
        "  for C in list_C:\n",
        "    svc = svm.SVC(C=C, kernel=i)\n",
        "    svc.fit(X_train, y_train)\n",
        "    temp = svc.score(X_train, y_train)\n",
        "  train_res.append(temp)"
      ],
      "execution_count": 21,
      "outputs": []
    },
    {
      "cell_type": "markdown",
      "metadata": {
        "id": "8dbeEqBoyAs-"
      },
      "source": [
        "Train Accuracy"
      ]
    },
    {
      "cell_type": "code",
      "metadata": {
        "colab": {
          "base_uri": "https://localhost:8080/",
          "height": 363
        },
        "id": "OY1oAuakwcFx",
        "outputId": "5320a68a-184a-4511-c40d-0d3626b68aa7"
      },
      "source": [
        "height = train_res\n",
        "bars = ('linear','sigmoid','rbf','poly')\n",
        "y_pos = np.arange(len(bars))\n",
        "plt.axis([-.5, 3.5, 0.99, 1.005])\n",
        "\n",
        "# Basic plot\n",
        "plt.bar(y_pos, height, color='mediumvioletred')\n",
        "plt.xlabel('Kernels',fontweight='bold',fontsize=18.0)\n",
        "\n",
        "plt.ylabel('Train Accuracy',fontweight='bold',fontsize=18.0)\n",
        "plt.title('Bar Graph for Various Kernels v/s Training Accuracy',fontsize=18.0)\n",
        "\n",
        "# use the plt.xticks function to custom labels\n",
        "plt.xticks(y_pos, bars, color='c', rotation=45,\n",
        "fontweight='bold', fontsize='17', horizontalalignment='right')\n",
        "plt.show()"
      ],
      "execution_count": 22,
      "outputs": [
        {
          "output_type": "display_data",
          "data": {
            "image/png": "[encoded data removed]",
            "text/plain": [
              "<Figure size 432x288 with 1 Axes>"
            ]
          },
          "metadata": {
            "tags": []
          }
        }
      ]
    },
    {
      "cell_type": "code",
      "metadata": {
        "_cell_guid": "f82fc85a-e883-42d1-abbc-c3b3342247dc",
        "_uuid": "1101b49ede4dccec53089e86f3db2969abea67ee",
        "collapsed": true,
        "id": "nwLaGvxGNg5E"
      },
      "source": [
        "list_C = np.arange(1000, 2000, 3000) #100000\n",
        "count = 0\n",
        "test_res = []\n",
        "\n",
        "krnl = ['linear','sigmoid','rbf','poly']\n",
        "for i in krnl:\n",
        "  for C in list_C:\n",
        "    svc = svm.SVC(C=C, kernel=i)\n",
        "    svc.fit(X_train, y_train)\n",
        "    temp = svc.score(X_test, y_test)\n",
        "  test_res.append(temp)\n"
      ],
      "execution_count": 23,
      "outputs": []
    },
    {
      "cell_type": "markdown",
      "metadata": {
        "id": "3rZc9WsDyGbo"
      },
      "source": [
        "Test Accuracy"
      ]
    },
    {
      "cell_type": "code",
      "metadata": {
        "colab": {
          "base_uri": "https://localhost:8080/"
        },
        "id": "RH4ai72fhvJU",
        "outputId": "9cec3cb0-fcd1-4210-a019-0c560fc593f6"
      },
      "source": [
        "test_res"
      ],
      "execution_count": 24,
      "outputs": [
        {
          "output_type": "execute_result",
          "data": {
            "text/plain": [
              "[0.9752333094041636,\n",
              " 0.9544149318018664,\n",
              " 0.9727207465900933,\n",
              " 0.9242641780330223]"
            ]
          },
          "metadata": {
            "tags": []
          },
          "execution_count": 24
        }
      ]
    },
    {
      "cell_type": "code",
      "metadata": {
        "colab": {
          "base_uri": "https://localhost:8080/",
          "height": 363
        },
        "id": "oFr_DsdXqqAo",
        "outputId": "2e365aa1-195d-475d-b90b-460e6481c4ad"
      },
      "source": [
        "height = test_res\n",
        "bars = ('linear','sigmoid','rbf','poly')\n",
        "y_pos = np.arange(len(bars))\n",
        "plt.axis([-.5, 3.5, 0.90, 1.0])\n",
        "\n",
        "# Basic plot\n",
        "plt.bar(y_pos, height, color='mediumvioletred')\n",
        "\n",
        "plt.xlabel('Kernels',fontweight='bold',fontsize=18.0)\n",
        "\n",
        "plt.ylabel('Test Accuracy',fontweight='bold',fontsize=18.0)\n",
        "plt.title('Bar Graph for Various Kernels v/s Test ing Accuracy',fontsize=18.0)\n",
        "\n",
        "# use the plt.xticks function to custom labels\n",
        "plt.xticks(y_pos, bars, color='c', rotation=45,\n",
        "fontweight='bold', fontsize='17', horizontalalignment='right')\n",
        "plt.show()"
      ],
      "execution_count": 25,
      "outputs": [
        {
          "output_type": "display_data",
          "data": {
            "image/png": "[encoded data removed]",
            "text/plain": [
              "<Figure size 432x288 with 1 Axes>"
            ]
          },
          "metadata": {
            "tags": []
          }
        }
      ]
    }
  ]
}