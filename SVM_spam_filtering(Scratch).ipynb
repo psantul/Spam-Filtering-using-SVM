{
  "nbformat": 4,
  "nbformat_minor": 0,
  "metadata": {
    "colab": {
      "name": "SVM_(Scratch).ipynb",
      "provenance": []
    },
    "kernelspec": {
      "display_name": "Python 3",
      "name": "python3"
    },
    "language_info": {
      "name": "python"
    }
  },
  "cells": [
    {
      "cell_type": "code",
      "metadata": {
        "id": "fKRrLlB4zPrH"
      },
      "source": [
        "\"\"\"\n",
        "Implementation of SVM from scratch and using it for spam filtering on sms dataset and \n",
        "visualising it by changing different parameters.\n",
        "\n",
        "@author: PRIYUSH KUMAR(MIT2020055)\n",
        "         PANKAJ (MIT2020114)\n",
        "\"\"\"\n",
        "\n",
        "import numpy as np\n",
        "import pandas as pd\n",
        "import math"
      ],
      "execution_count": 2,
      "outputs": []
    },
    {
      "cell_type": "markdown",
      "metadata": {
        "id": "EQ8iy-Xdz7KW"
      },
      "source": [
        "#Defining different Kernels "
      ]
    },
    {
      "cell_type": "code",
      "metadata": {
        "id": "KgpsCgPez3xU"
      },
      "source": [
        "def linear_kernel(power, gamma, coef,**kwargs):\n",
        "    def f(x1, x2):\n",
        "        return np.inner(x1, x2)\n",
        "    return f\n",
        "\n",
        "def polynomial_kernel(power, gamma, coef, **kwargs):\n",
        "    def f(x1, x2):\n",
        "        return (np.inner(x1, x2) + coef)**power\n",
        "    return f\n",
        "\n",
        "def rbf_kernel(power, coef, gamma, **kwargs):\n",
        "    def f(x1, x2):\n",
        "        distance = np.linalg.norm(x1 - x2) ** 2\n",
        "        return np.exp(-gamma * distance)\n",
        "    return f\n",
        "\n",
        "def sigmoid_kernel(power, coef, gamma, **kwargs):\n",
        "    def f(x1, x2):\n",
        "      alpha= 0.01\n",
        "      constant= -math.e\n",
        "      sum=0\n",
        "      # for i in x1.shape[0]:\n",
        "        # sum += x1[i] * x2[i]\n",
        "      a=math.tanh(alpha * sum + constant)\n",
        "      # return math.tanh(alpha * sum + constant)\n",
        "      return a\n",
        "    return f"
      ],
      "execution_count": 3,
      "outputs": []
    },
    {
      "cell_type": "markdown",
      "metadata": {
        "id": "7EJ73NqE0HgR"
      },
      "source": [
        "#Defining Data mainipulation and operation functions"
      ]
    },
    {
      "cell_type": "code",
      "metadata": {
        "id": "3GZyrPjB0C10"
      },
      "source": [
        "def accuracy_score(y_true, y_pred):\n",
        "    \"\"\" Compare y_true to y_pred and return the accuracy \"\"\"\n",
        "    accuracy = np.sum(y_true == y_pred, axis=0) / len(y_true)\n",
        "    return accuracy\n",
        "\n"
      ],
      "execution_count": 4,
      "outputs": []
    },
    {
      "cell_type": "markdown",
      "metadata": {
        "id": "0DiPVa910PZ7"
      },
      "source": [
        "#SVM model"
      ]
    },
    {
      "cell_type": "code",
      "metadata": {
        "id": "9ewAFd-r0Ksb"
      },
      "source": [
        "import cvxopt\n",
        "\n",
        "cvxopt.solvers.options['show_progress'] = False\n",
        "\n",
        "class SupportVectorMachine(object):\n",
        "\n",
        "    def __init__(self, C=1, kernel=linear_kernel, power=4, gamma=None, coef=4):\n",
        "        self.C = C\n",
        "        self.kernel = kernel\n",
        "        self.power = power\n",
        "        self.gamma = gamma\n",
        "        self.coef = coef\n",
        "        self.lagr_multipliers = None\n",
        "        self.support_vectors = None\n",
        "        self.support_vector_labels = None\n",
        "        self.intercept = None\n",
        "\n",
        "    def fit(self, X, y):\n",
        "\n",
        "        n_samples, n_features = np.shape(X)\n",
        "        n = X.shape[0]\n",
        "\n",
        "        if not self.gamma:\n",
        "            self.gamma = 1 / n_features\n",
        "\n",
        "        self.kernel = self.kernel(\n",
        "            power=self.power,\n",
        "            gamma=self.gamma,\n",
        "            coef=self.coef)\n",
        "\n",
        "        kernel_matrix = np.zeros((n_samples, n_samples))\n",
        "        for i in range(n_samples):\n",
        "            for j in range(n_samples):\n",
        "                kernel_matrix[i, j] = self.kernel(X[i], X[j])\n",
        "              \n",
        "        P = cvxopt.matrix(np.outer(y, y) * kernel_matrix, tc='d')\n",
        "        q = cvxopt.matrix(np.ones(n_samples) * -1)\n",
        "        A = cvxopt.matrix(y, (1, n_samples), tc='d')\n",
        "        b = cvxopt.matrix(0, tc='d')\n",
        "\n",
        "        if not self.C:\n",
        "            G = cvxopt.matrix(np.identity(n_samples) * -1)\n",
        "            h = cvxopt.matrix(np.zeros(n_samples))\n",
        "        else:\n",
        "            G_max = np.identity(n_samples) * -1\n",
        "            G_min = np.identity(n_samples)\n",
        "            G = cvxopt.matrix(np.vstack((G_max, G_min)))\n",
        "            h_max = cvxopt.matrix(np.zeros(n_samples))\n",
        "            h_min = cvxopt.matrix(np.ones(n_samples) * self.C)\n",
        "            h = cvxopt.matrix(np.vstack((h_max, h_min)))\n",
        "\n",
        "        minimization = cvxopt.solvers.qp(P, q, G, h, A, b)\n",
        "        lagr_mult = np.ravel(minimization['x'])\n",
        "\n",
        "        idx = lagr_mult > 1e-7\n",
        "        self.lagr_multipliers = lagr_mult[idx]\n",
        "        self.support_vectors = X[idx]\n",
        "        self.support_vector_labels = y[idx]\n",
        "        self.intercept = self.support_vector_labels[0]\n",
        "\n",
        "        for i in range(len(self.lagr_multipliers)):\n",
        "            self.intercept -= self.lagr_multipliers[i] * self.support_vector_labels[\n",
        "                i] * self.kernel(self.support_vectors[i], self.support_vectors[0])\n",
        "\n",
        "    def predict(self, X):\n",
        "        y_pred = []\n",
        "\n",
        "        for sample in X:\n",
        "            prediction = 0\n",
        "\n",
        "            for i in range(len(self.lagr_multipliers)):\n",
        "                prediction += self.lagr_multipliers[i] * self.support_vector_labels[\n",
        "                    i] * self.kernel(self.support_vectors[i], sample)\n",
        "            prediction += self.intercept\n",
        "            y_pred.append(np.sign(prediction))\n",
        "        return np.array(y_pred)"
      ],
      "execution_count": 5,
      "outputs": []
    },
    {
      "cell_type": "code",
      "metadata": {
        "id": "YKC7Qwb10YDw"
      },
      "source": [
        "def main(X_train, y_train, X_test, y_test,kernel):\n",
        "\n",
        "      clf = SupportVectorMachine(kernel=kernel)\n",
        "      clf.fit(X_train,y_train)\n",
        "\n",
        "      y_train_pred = clf.predict(X_train)\n",
        "\n",
        "      train_accuracy = accuracy_score(y_train, y_train_pred)\n",
        "      print ('training Accuracy: {:.4f}'.format(train_accuracy))\n",
        "\n",
        "      y_test_pred = clf.predict(X_test)\n",
        "\n",
        "      print(\"Actual_y_test: \",y_test)\n",
        "      print(\"predit_y_test: \",np.array(y_test_pred))\n",
        "      \n",
        "      test_accuracy = accuracy_score(y_test, y_test_pred)\n",
        "      print ('testing Accuracy: {:.4f}'.format(test_accuracy))\n",
        "\n",
        "      return train_accuracy,test_accuracy"
      ],
      "execution_count": 6,
      "outputs": []
    },
    {
      "cell_type": "markdown",
      "metadata": {
        "id": "lcXwEVQVdrgs"
      },
      "source": [
        "# sms Dataset"
      ]
    },
    {
      "cell_type": "code",
      "metadata": {
        "colab": {
          "base_uri": "https://localhost:8080/",
          "height": 197
        },
        "id": "Ck-N3qEI0hS0",
        "outputId": "ff5c27f0-8932-47f1-b951-cb966a62e17b"
      },
      "source": [
        "sms_data = pd.read_csv(\"https://raw.githubusercontent.com/PriyushKumar/datasets/main/spam%20ham%20data%20set.csv\", encoding='latin-1')\n",
        "sms_data.head()"
      ],
      "execution_count": 7,
      "outputs": [
        {
          "output_type": "execute_result",
          "data": {
            "text/html": [
              "<div>\n",
              "<style scoped>\n",
              "    .dataframe tbody tr th:only-of-type {\n",
              "        vertical-align: middle;\n",
              "    }\n",
              "\n",
              "    .dataframe tbody tr th {\n",
              "        vertical-align: top;\n",
              "    }\n",
              "\n",
              "    .dataframe thead th {\n",
              "        text-align: right;\n",
              "    }\n",
              "</style>\n",
              "<table border=\"1\" class=\"dataframe\">\n",
              "  <thead>\n",
              "    <tr style=\"text-align: right;\">\n",
              "      <th></th>\n",
              "      <th>v1</th>\n",
              "      <th>v2</th>\n",
              "      <th>Unnamed: 2</th>\n",
              "      <th>Unnamed: 3</th>\n",
              "      <th>Unnamed: 4</th>\n",
              "    </tr>\n",
              "  </thead>\n",
              "  <tbody>\n",
              "    <tr>\n",
              "      <th>0</th>\n",
              "      <td>ham</td>\n",
              "      <td>Go until jurong point, crazy.. Available only ...</td>\n",
              "      <td>NaN</td>\n",
              "      <td>NaN</td>\n",
              "      <td>NaN</td>\n",
              "    </tr>\n",
              "    <tr>\n",
              "      <th>1</th>\n",
              "      <td>ham</td>\n",
              "      <td>Ok lar... Joking wif u oni...</td>\n",
              "      <td>NaN</td>\n",
              "      <td>NaN</td>\n",
              "      <td>NaN</td>\n",
              "    </tr>\n",
              "    <tr>\n",
              "      <th>2</th>\n",
              "      <td>spam</td>\n",
              "      <td>Free entry in 2 a wkly comp to win FA Cup fina...</td>\n",
              "      <td>NaN</td>\n",
              "      <td>NaN</td>\n",
              "      <td>NaN</td>\n",
              "    </tr>\n",
              "    <tr>\n",
              "      <th>3</th>\n",
              "      <td>ham</td>\n",
              "      <td>U dun say so early hor... U c already then say...</td>\n",
              "      <td>NaN</td>\n",
              "      <td>NaN</td>\n",
              "      <td>NaN</td>\n",
              "    </tr>\n",
              "    <tr>\n",
              "      <th>4</th>\n",
              "      <td>ham</td>\n",
              "      <td>Nah I don't think he goes to usf, he lives aro...</td>\n",
              "      <td>NaN</td>\n",
              "      <td>NaN</td>\n",
              "      <td>NaN</td>\n",
              "    </tr>\n",
              "  </tbody>\n",
              "</table>\n",
              "</div>"
            ],
            "text/plain": [
              "     v1  ... Unnamed: 4\n",
              "0   ham  ...        NaN\n",
              "1   ham  ...        NaN\n",
              "2  spam  ...        NaN\n",
              "3   ham  ...        NaN\n",
              "4   ham  ...        NaN\n",
              "\n",
              "[5 rows x 5 columns]"
            ]
          },
          "metadata": {
            "tags": []
          },
          "execution_count": 7
        }
      ]
    },
    {
      "cell_type": "code",
      "metadata": {
        "colab": {
          "base_uri": "https://localhost:8080/",
          "height": 197
        },
        "id": "oufPy6Pe0kIQ",
        "outputId": "95ccebbb-96b7-4876-f582-a01a73dd09c0"
      },
      "source": [
        "sms_data.drop(labels = ['Unnamed: 2','Unnamed: 3','Unnamed: 4'],axis = 1,inplace = True)\n",
        "sms_data.head()"
      ],
      "execution_count": 8,
      "outputs": [
        {
          "output_type": "execute_result",
          "data": {
            "text/html": [
              "<div>\n",
              "<style scoped>\n",
              "    .dataframe tbody tr th:only-of-type {\n",
              "        vertical-align: middle;\n",
              "    }\n",
              "\n",
              "    .dataframe tbody tr th {\n",
              "        vertical-align: top;\n",
              "    }\n",
              "\n",
              "    .dataframe thead th {\n",
              "        text-align: right;\n",
              "    }\n",
              "</style>\n",
              "<table border=\"1\" class=\"dataframe\">\n",
              "  <thead>\n",
              "    <tr style=\"text-align: right;\">\n",
              "      <th></th>\n",
              "      <th>v1</th>\n",
              "      <th>v2</th>\n",
              "    </tr>\n",
              "  </thead>\n",
              "  <tbody>\n",
              "    <tr>\n",
              "      <th>0</th>\n",
              "      <td>ham</td>\n",
              "      <td>Go until jurong point, crazy.. Available only ...</td>\n",
              "    </tr>\n",
              "    <tr>\n",
              "      <th>1</th>\n",
              "      <td>ham</td>\n",
              "      <td>Ok lar... Joking wif u oni...</td>\n",
              "    </tr>\n",
              "    <tr>\n",
              "      <th>2</th>\n",
              "      <td>spam</td>\n",
              "      <td>Free entry in 2 a wkly comp to win FA Cup fina...</td>\n",
              "    </tr>\n",
              "    <tr>\n",
              "      <th>3</th>\n",
              "      <td>ham</td>\n",
              "      <td>U dun say so early hor... U c already then say...</td>\n",
              "    </tr>\n",
              "    <tr>\n",
              "      <th>4</th>\n",
              "      <td>ham</td>\n",
              "      <td>Nah I don't think he goes to usf, he lives aro...</td>\n",
              "    </tr>\n",
              "  </tbody>\n",
              "</table>\n",
              "</div>"
            ],
            "text/plain": [
              "     v1                                                 v2\n",
              "0   ham  Go until jurong point, crazy.. Available only ...\n",
              "1   ham                      Ok lar... Joking wif u oni...\n",
              "2  spam  Free entry in 2 a wkly comp to win FA Cup fina...\n",
              "3   ham  U dun say so early hor... U c already then say...\n",
              "4   ham  Nah I don't think he goes to usf, he lives aro..."
            ]
          },
          "metadata": {
            "tags": []
          },
          "execution_count": 8
        }
      ]
    },
    {
      "cell_type": "code",
      "metadata": {
        "colab": {
          "base_uri": "https://localhost:8080/",
          "height": 298
        },
        "id": "tGtRwwssiPa8",
        "outputId": "87030cde-37d4-4375-eae5-dfd1eaff3bad"
      },
      "source": [
        "from matplotlib import pyplot as plt\n",
        "count_Class=pd.value_counts(sms_data[\"v1\"], sort= True)\n",
        "count_Class.plot(kind= 'bar', color= [\"blue\", \"magenta\"])\n",
        "plt.title('Bar chart')\n",
        "plt.show()"
      ],
      "execution_count": 9,
      "outputs": [
        {
          "output_type": "display_data",
          "data": {
            "image/png": "[encoded data removed]",
            "text/plain": [
              "<Figure size 432x288 with 1 Axes>"
            ]
          },
          "metadata": {
            "tags": [],
            "needs_background": "light"
          }
        }
      ]
    },
    {
      "cell_type": "markdown",
      "metadata": {
        "id": "UAQaKgZHkbQe"
      },
      "source": [
        "#Text analysis"
      ]
    },
    {
      "cell_type": "code",
      "metadata": {
        "id": "HeC1LF9Dkg4r"
      },
      "source": [
        "from collections import Counter\n",
        "count1 = Counter(\" \".join(sms_data[sms_data['v1']=='ham'][\"v2\"]).split()).most_common(20)\n",
        "df1 = pd.DataFrame.from_dict(count1)\n",
        "df1 = df1.rename(columns={0: \"words in non-spam\", 1 : \"count\"})\n",
        "count2 = Counter(\" \".join(sms_data[sms_data['v1']=='spam'][\"v2\"]).split()).most_common(20)\n",
        "df2 = pd.DataFrame.from_dict(count2)\n",
        "df2 = df2.rename(columns={0: \"words in spam\", 1 : \"count_\"})"
      ],
      "execution_count": null,
      "outputs": []
    },
    {
      "cell_type": "markdown",
      "metadata": {
        "id": "7SqBy5MPdM5Q"
      },
      "source": [
        "# visualising frequent words in non-spam message"
      ]
    },
    {
      "cell_type": "code",
      "metadata": {
        "colab": {
          "base_uri": "https://localhost:8080/",
          "height": 310
        },
        "id": "GR0043RwlN30",
        "outputId": "6cee5cd9-35e1-4f7c-e161-18f85445b5ad"
      },
      "source": [
        "df1.plot.bar(legend = False,color='cyan')\n",
        "y_pos = np.arange(len(df1[\"words in non-spam\"]))\n",
        "plt.xticks(y_pos, df1[\"words in non-spam\"])\n",
        "plt.title('More frequent words in non-spam messages')\n",
        "plt.xlabel('words')\n",
        "plt.ylabel('number')\n",
        "plt.show()"
      ],
      "execution_count": null,
      "outputs": [
        {
          "output_type": "display_data",
          "data": {
            "image/png": "[encoded data removed]",
            "text/plain": [
              "<Figure size 432x288 with 1 Axes>"
            ]
          },
          "metadata": {
            "tags": []
          }
        }
      ]
    },
    {
      "cell_type": "markdown",
      "metadata": {
        "id": "KY3hNT-zdeA1"
      },
      "source": [
        "# Visualising frequent word in spam message"
      ]
    },
    {
      "cell_type": "code",
      "metadata": {
        "colab": {
          "base_uri": "https://localhost:8080/",
          "height": 310
        },
        "id": "9TOpsa4Le57V",
        "outputId": "fb178456-6534-4ff3-ae25-29c589ab8348"
      },
      "source": [
        "df2.plot.bar(legend = False, color = 'magenta')\n",
        "y_pos = np.arange(len(df2[\"words in spam\"]))\n",
        "plt.xticks(y_pos, df2[\"words in spam\"])\n",
        "plt.title('More frequent words in spam messages')\n",
        "plt.xlabel('words')\n",
        "plt.ylabel('number')\n",
        "plt.show()"
      ],
      "execution_count": null,
      "outputs": [
        {
          "output_type": "display_data",
          "data": {
            "image/png": "[encoded data removed]",
            "text/plain": [
              "<Figure size 432x288 with 1 Axes>"
            ]
          },
          "metadata": {
            "tags": []
          }
        }
      ]
    },
    {
      "cell_type": "code",
      "metadata": {
        "id": "viZFSntY0rCj"
      },
      "source": [
        "import re\n",
        "import string\n",
        "import nltk\n",
        "from nltk.corpus import stopwords\n",
        "from nltk.stem.porter import PorterStemmer\n",
        "from sklearn import feature_extraction,model_selection,metrics"
      ],
      "execution_count": 10,
      "outputs": []
    },
    {
      "cell_type": "code",
      "metadata": {
        "colab": {
          "base_uri": "https://localhost:8080/",
          "height": 71
        },
        "id": "v4K2c5qcAG-0",
        "outputId": "f882f3d6-094e-4e42-fd84-718ca9f1911f"
      },
      "source": [
        "# import nltk\n",
        "nltk.download('stopwords')\n",
        "# StopWords = set(stopwords.words('english'))\n",
        "stemming = PorterStemmer()\n",
        "corpus = []\n",
        "\n",
        "for i in range (0,len(sms_data)):\n",
        "  s1 = re.sub('[^a-zA-Z]',repl = ' ',string = sms_data['v2'][i])\n",
        "  s1.lower()\n",
        "  s1 = s1.split()\n",
        "  s1 = [stemming.stem(word) for word in s1 if word not in set(stopwords.words('english'))]\n",
        "  s1 = ' '.join(s1)\n",
        "  corpus.append(s1)\n",
        "\n",
        "corpus[50]"
      ],
      "execution_count": 11,
      "outputs": [
        {
          "output_type": "stream",
          "text": [
            "[nltk_data] Downloading package stopwords to /root/nltk_data...\n",
            "[nltk_data]   Unzipping corpora/stopwords.zip.\n"
          ],
          "name": "stdout"
        },
        {
          "output_type": "execute_result",
          "data": {
            "application/vnd.google.colaboratory.intrinsic+json": {
              "type": "string"
            },
            "text/plain": [
              "'what think first time saw class'"
            ]
          },
          "metadata": {
            "tags": []
          },
          "execution_count": 11
        }
      ]
    },
    {
      "cell_type": "code",
      "metadata": {
        "id": "e6LKlv5yAS7I"
      },
      "source": [
        "from sklearn.feature_extraction.text import CountVectorizer\n",
        "countvectorizer =CountVectorizer()\n",
        "x = countvectorizer.fit_transform(corpus).toarray()"
      ],
      "execution_count": 12,
      "outputs": []
    },
    {
      "cell_type": "code",
      "metadata": {
        "colab": {
          "base_uri": "https://localhost:8080/"
        },
        "id": "6zCNRDDCAXw1",
        "outputId": "62ea5395-da18-46f9-d11a-febda655ffa7"
      },
      "source": [
        "print(x)"
      ],
      "execution_count": 13,
      "outputs": [
        {
          "output_type": "stream",
          "text": [
            "[[0 0 0 ... 0 0 0]\n",
            " [0 0 0 ... 0 0 0]\n",
            " [0 0 0 ... 0 0 0]\n",
            " ...\n",
            " [0 0 0 ... 0 0 0]\n",
            " [0 0 0 ... 0 0 0]\n",
            " [0 0 0 ... 0 0 0]]\n"
          ],
          "name": "stdout"
        }
      ]
    },
    {
      "cell_type": "code",
      "metadata": {
        "colab": {
          "base_uri": "https://localhost:8080/"
        },
        "id": "hAj4V9ueAgMV",
        "outputId": "01e259cb-d6f8-47e0-b910-5b88702e63c6"
      },
      "source": [
        "sms_data[\"v1\"]=sms_data[\"v1\"].map({'spam':1,'ham':-1})\n",
        "y = sms_data['v1'].values\n",
        "print(y)"
      ],
      "execution_count": 14,
      "outputs": [
        {
          "output_type": "stream",
          "text": [
            "[-1 -1  1 ... -1 -1 -1]\n"
          ],
          "name": "stdout"
        }
      ]
    },
    {
      "cell_type": "code",
      "metadata": {
        "id": "yKY6XX9xAmbe"
      },
      "source": [
        "from sklearn.model_selection import train_test_split\n",
        "x_train,x_test,y_train,y_test = train_test_split(x,y,test_size = 0.3, stratify=y,random_state=100)"
      ],
      "execution_count": null,
      "outputs": []
    },
    {
      "cell_type": "markdown",
      "metadata": {
        "id": "eXiqopOPcow9"
      },
      "source": [
        "#Ananlysis accuracy using different kenels"
      ]
    },
    {
      "cell_type": "code",
      "metadata": {
        "id": "py-a00ahgJ2m"
      },
      "source": [
        "kernel_fn = [linear_kernel,polynomial_kernel,rbf_kernel,sigmoid_kernel]\n",
        "kernel_name = ['linear kernel','Polynomial kernel','Gaussian RBF kernel','sigmoid_kernel']"
      ],
      "execution_count": 15,
      "outputs": []
    },
    {
      "cell_type": "code",
      "metadata": {
        "colab": {
          "background_save": true,
          "base_uri": "https://localhost:8080/"
        },
        "id": "gSq-QVTCAs2j",
        "outputId": "78dea5ec-cf62-42f9-9084-f498e8ddbf7e"
      },
      "source": [
        "# kernel_fn = [sigmoid_kernel]\n",
        "SVM_train_accuracy =[]\n",
        "SVM_test_accuracy =[]\n",
        "\n",
        "if __name__ == \"__main__\":\n",
        "  for i,j in zip(kernel_fn,kernel_name):\n",
        "    print(\"#############################\")\n",
        "    print(\"using \",j)\n",
        "    print(\"#############################\")\n",
        "    tr_acc,ts_acc = main(x_train,y_train, x_test, y_test,i)\n",
        "    SVM_train_accuracy.append(tr_acc)\n",
        "    SVM_test_accuracy.append(ts_acc)\n",
        "    print('\\n')"
      ],
      "execution_count": null,
      "outputs": [
        {
          "output_type": "stream",
          "text": [
            "#############################\n",
            "using  linear kernel\n",
            "#############################\n",
            "training Accuracy: 0.9992\n",
            "Actual_y_test:  [-1 -1 -1 ...  1 -1 -1]\n",
            "predit_y_test:  [-1. -1. -1. ...  1. -1. -1.]\n",
            "testing Accuracy: 0.9827\n",
            "\n",
            "\n",
            "#############################\n",
            "using  Polynomial kernel\n",
            "#############################\n",
            "training Accuracy: 0.9985\n",
            "Actual_y_test:  [-1 -1 -1 ...  1 -1 -1]\n",
            "predit_y_test:  [-1. -1. -1. ...  1. -1. -1.]\n",
            "testing Accuracy: 0.9635\n",
            "\n",
            "\n",
            "#############################\n",
            "using  Gaussian RBF kernel\n",
            "#############################\n",
            "training Accuracy: 0.8659\n",
            "Actual_y_test:  [-1 -1 -1 ...  1 -1 -1]\n",
            "predit_y_test:  [-1. -1. -1. ... -1. -1. -1.]\n",
            "testing Accuracy: 0.8660\n",
            "\n",
            "\n",
            "#############################\n",
            "using  sigmoid_kernel\n",
            "#############################\n",
            "training Accuracy: 0.8659\n",
            "Actual_y_test:  [-1 -1 -1 ...  1 -1 -1]\n",
            "predit_y_test:  [-1. -1. -1. ... -1. -1. -1.]\n",
            "testing Accuracy: 0.8660\n",
            "\n",
            "\n"
          ],
          "name": "stdout"
        }
      ]
    },
    {
      "cell_type": "markdown",
      "metadata": {
        "id": "cjlsNP3Xc0yv"
      },
      "source": [
        "# training accuracy on different kernels"
      ]
    },
    {
      "cell_type": "code",
      "metadata": {
        "colab": {
          "background_save": true
        },
        "id": "zLu10AChtOlx",
        "outputId": "079f4ae1-55c4-4c9b-8cd1-9fc7de1fdb17"
      },
      "source": [
        "height = SVM_train_accuracy\n",
        "bars = ('linear','Polynomial','rbf','Sigmoid')\n",
        "y_pos = np.arange(len(bars))\n",
        "plt.axis([-.5, 3.5, 0.85, 1.001 ])\n",
        "\n",
        "# Basic plot\n",
        "plt.bar(y_pos, height, color='mediumvioletred')\n",
        "plt.xlabel('Kernels',fontweight='bold',fontsize=18.0)\n",
        "\n",
        "plt.ylabel('Train Accuracy',fontweight='bold',fontsize=18.0)\n",
        "plt.title('Bar Graph for Various Kernels v/s Training Accuracy',fontsize=18.0)\n",
        "\n",
        "# use the plt.xticks function to custom labels\n",
        "plt.xticks(y_pos, bars, color='c', rotation=45,\n",
        "fontweight='bold', fontsize='17', horizontalalignment='right')\n",
        "plt.show()"
      ],
      "execution_count": null,
      "outputs": [
        {
          "output_type": "display_data",
          "data": {
            "image/png": "[encoded data removed]",
            "text/plain": [
              "<Figure size 432x288 with 1 Axes>"
            ]
          },
          "metadata": {
            "tags": []
          }
        }
      ]
    },
    {
      "cell_type": "markdown",
      "metadata": {
        "id": "ZXPWC-U_dC5X"
      },
      "source": [
        "# Testing accuracy on different kernels"
      ]
    },
    {
      "cell_type": "code",
      "metadata": {
        "colab": {
          "background_save": true
        },
        "id": "N3FV7gkhwg3z",
        "outputId": "473c7c1d-df94-4bb4-b994-50a8ba1569f2"
      },
      "source": [
        "height = SVM_test_accuracy\n",
        "bars = ('linear','Polynomial','rbf','Sigmoid')\n",
        "y_pos = np.arange(len(bars))\n",
        "plt.axis([-.5, 3.5, 0.7, 1.001 ])\n",
        "\n",
        "# Basic plot\n",
        "plt.bar(y_pos, height, color='mediumvioletred')\n",
        "plt.xlabel('Kernels',fontweight='bold',fontsize=18.0)\n",
        "\n",
        "plt.ylabel('Test Accuracy',fontweight='bold',fontsize=18.0)\n",
        "plt.title('Bar Graph for Various Kernels v/s Training Accuracy',fontsize=18.0)\n",
        "\n",
        "# use the plt.xticks function to custom labels\n",
        "plt.xticks(y_pos, bars, color='c', rotation=45,\n",
        "fontweight='bold', fontsize='17', horizontalalignment='right')\n",
        "plt.show()"
      ],
      "execution_count": null,
      "outputs": [
        {
          "output_type": "display_data",
          "data": {
            "image/png": "[encoded data removed]",
            "text/plain": [
              "<Figure size 432x288 with 1 Axes>"
            ]
          },
          "metadata": {
            "tags": []
          }
        }
      ]
    },
    {
      "cell_type": "code",
      "metadata": {
        "id": "-JhphSy_3os2"
      },
      "source": [
        "from sklearn.model_selection import train_test_split\n",
        "X_train,X_test,y_train,y_test = train_test_split(x,y,test_size = 0.3, stratify=y,random_state=100)"
      ],
      "execution_count": 16,
      "outputs": []
    },
    {
      "cell_type": "markdown",
      "metadata": {
        "id": "neQurut8d9Ci"
      },
      "source": [
        "# Analysing accuracy by changing value of C"
      ]
    },
    {
      "cell_type": "code",
      "metadata": {
        "id": "ywjlLtc61BhF"
      },
      "source": [
        "list_C = np.arange(500, 700, 100) #100000\n",
        "score_train = np.zeros(len(list_C))\n",
        "score_test = np.zeros(len(list_C))\n",
        "recall_test = np.zeros(len(list_C))\n",
        "precision_test= np.zeros(len(list_C))\n",
        "count = 0\n",
        "for C in list_C:\n",
        "    svc = SupportVectorMachine(C=C)\n",
        "    svc.fit(X_train, y_train)\n",
        "    # score_train[count] = svc.score(X_train, y_train)\n",
        "    y_train_pred = svc.predict(X_train)\n",
        "    score_train[count] = accuracy_score(y_train, y_train_pred)\n",
        "\n",
        "    y_test_pred = svc.predict(X_test)\n",
        "    # score_test[count]= svc.score(X_test, y_test)\n",
        "    score_test[count]= accuracy_score(y_test, y_test_pred)\n",
        "\n",
        "    recall_test[count] = metrics.recall_score(y_test, y_test_pred)\n",
        "    precision_test[count] = metrics.precision_score(y_test, y_test_pred)\n",
        "    count = count + 1 "
      ],
      "execution_count": 17,
      "outputs": []
    },
    {
      "cell_type": "code",
      "metadata": {
        "id": "yvV8ZHdw5ST1",
        "colab": {
          "base_uri": "https://localhost:8080/",
          "height": 107
        },
        "outputId": "a0b95c59-7ec7-4cf7-bd05-3eeddef7b807"
      },
      "source": [
        "matrix = np.matrix(np.c_[list_C, score_train, score_test, recall_test, precision_test])\n",
        "models = pd.DataFrame(data = matrix, columns = \n",
        "             ['C', 'Train Accuracy', 'Test Accuracy', 'Test Recall', 'Test Precision'])\n",
        "models.head(n=10)"
      ],
      "execution_count": 18,
      "outputs": [
        {
          "output_type": "execute_result",
          "data": {
            "text/html": [
              "<div>\n",
              "<style scoped>\n",
              "    .dataframe tbody tr th:only-of-type {\n",
              "        vertical-align: middle;\n",
              "    }\n",
              "\n",
              "    .dataframe tbody tr th {\n",
              "        vertical-align: top;\n",
              "    }\n",
              "\n",
              "    .dataframe thead th {\n",
              "        text-align: right;\n",
              "    }\n",
              "</style>\n",
              "<table border=\"1\" class=\"dataframe\">\n",
              "  <thead>\n",
              "    <tr style=\"text-align: right;\">\n",
              "      <th></th>\n",
              "      <th>C</th>\n",
              "      <th>Train Accuracy</th>\n",
              "      <th>Test Accuracy</th>\n",
              "      <th>Test Recall</th>\n",
              "      <th>Test Precision</th>\n",
              "    </tr>\n",
              "  </thead>\n",
              "  <tbody>\n",
              "    <tr>\n",
              "      <th>0</th>\n",
              "      <td>500.0</td>\n",
              "      <td>1.0</td>\n",
              "      <td>0.980263</td>\n",
              "      <td>0.879464</td>\n",
              "      <td>0.970443</td>\n",
              "    </tr>\n",
              "    <tr>\n",
              "      <th>1</th>\n",
              "      <td>600.0</td>\n",
              "      <td>1.0</td>\n",
              "      <td>0.980263</td>\n",
              "      <td>0.879464</td>\n",
              "      <td>0.970443</td>\n",
              "    </tr>\n",
              "  </tbody>\n",
              "</table>\n",
              "</div>"
            ],
            "text/plain": [
              "       C  Train Accuracy  Test Accuracy  Test Recall  Test Precision\n",
              "0  500.0             1.0       0.980263     0.879464        0.970443\n",
              "1  600.0             1.0       0.980263     0.879464        0.970443"
            ]
          },
          "metadata": {
            "tags": []
          },
          "execution_count": 18
        }
      ]
    },
    {
      "cell_type": "code",
      "metadata": {
        "id": "kqoFEfqF5mJR",
        "colab": {
          "base_uri": "https://localhost:8080/",
          "height": 107
        },
        "outputId": "ebfb0848-6c73-401f-c6cf-234c2cf63c5f"
      },
      "source": [
        "m_confusion_test = metrics.confusion_matrix(y_test, svc.predict(X_test))\n",
        "pd.DataFrame(data = m_confusion_test, columns = ['Predicted 0', 'Predicted 1'],\n",
        "            index = ['Actual 0', 'Actual 1'])"
      ],
      "execution_count": 19,
      "outputs": [
        {
          "output_type": "execute_result",
          "data": {
            "text/html": [
              "<div>\n",
              "<style scoped>\n",
              "    .dataframe tbody tr th:only-of-type {\n",
              "        vertical-align: middle;\n",
              "    }\n",
              "\n",
              "    .dataframe tbody tr th {\n",
              "        vertical-align: top;\n",
              "    }\n",
              "\n",
              "    .dataframe thead th {\n",
              "        text-align: right;\n",
              "    }\n",
              "</style>\n",
              "<table border=\"1\" class=\"dataframe\">\n",
              "  <thead>\n",
              "    <tr style=\"text-align: right;\">\n",
              "      <th></th>\n",
              "      <th>Predicted 0</th>\n",
              "      <th>Predicted 1</th>\n",
              "    </tr>\n",
              "  </thead>\n",
              "  <tbody>\n",
              "    <tr>\n",
              "      <th>Actual 0</th>\n",
              "      <td>1442</td>\n",
              "      <td>6</td>\n",
              "    </tr>\n",
              "    <tr>\n",
              "      <th>Actual 1</th>\n",
              "      <td>27</td>\n",
              "      <td>197</td>\n",
              "    </tr>\n",
              "  </tbody>\n",
              "</table>\n",
              "</div>"
            ],
            "text/plain": [
              "          Predicted 0  Predicted 1\n",
              "Actual 0         1442            6\n",
              "Actual 1           27          197"
            ]
          },
          "metadata": {
            "tags": []
          },
          "execution_count": 19
        }
      ]
    },
    {
      "cell_type": "code",
      "metadata": {
        "id": "bQur1Eyvepz2"
      },
      "source": [
        "from sklearn.model_selection import train_test_split"
      ],
      "execution_count": 20,
      "outputs": []
    },
    {
      "cell_type": "markdown",
      "metadata": {
        "id": "SgLBe6steKU1"
      },
      "source": [
        "#Analysing accuracy by changing size of testing data and training data"
      ]
    },
    {
      "cell_type": "code",
      "metadata": {
        "id": "CXfP3LSlmA6-",
        "colab": {
          "base_uri": "https://localhost:8080/"
        },
        "outputId": "847e1c08-299a-490d-9551-47796411878f"
      },
      "source": [
        "test_size=[0.2, 0.3, 0.5, 0.7, 0.8]\n",
        "\n",
        "testsize_train_accuracy =[]\n",
        "testsize_test_accuracy =[]\n",
        "\n",
        "count = 0\n",
        "for i in test_size:\n",
        "  X_train,X_test,y_train,y_test = train_test_split(x,y,test_size = i,random_state=100)\n",
        "  print(\"#############################\")\n",
        "  print(\"for test_size = \",i)\n",
        "  print(\"#############################\")\n",
        "  tr_acc,ts_acc = main(X_train,y_train, X_test, y_test,kernel=linear_kernel)\n",
        "  testsize_train_accuracy.append(tr_acc)\n",
        "  testsize_test_accuracy.append(ts_acc)\n",
        "  print('\\n')"
      ],
      "execution_count": 21,
      "outputs": [
        {
          "output_type": "stream",
          "text": [
            "#############################\n",
            "for test_size =  0.2\n",
            "#############################\n",
            "training Accuracy: 0.9991\n",
            "Actual_y_test:  [-1 -1 -1 ... -1 -1  1]\n",
            "predit_y_test:  [-1. -1. -1. ... -1. -1.  1.]\n",
            "testing Accuracy: 0.9883\n",
            "\n",
            "\n",
            "#############################\n",
            "for test_size =  0.3\n",
            "#############################\n",
            "training Accuracy: 0.9990\n",
            "Actual_y_test:  [-1 -1 -1 ... -1 -1 -1]\n",
            "predit_y_test:  [-1. -1. -1. ... -1. -1. -1.]\n",
            "testing Accuracy: 0.9844\n",
            "\n",
            "\n",
            "#############################\n",
            "for test_size =  0.5\n",
            "#############################\n",
            "training Accuracy: 0.9989\n",
            "Actual_y_test:  [-1 -1 -1 ... -1 -1 -1]\n",
            "predit_y_test:  [-1. -1. -1. ... -1.  1. -1.]\n",
            "testing Accuracy: 0.9785\n",
            "\n",
            "\n",
            "#############################\n",
            "for test_size =  0.7\n",
            "#############################\n",
            "training Accuracy: 0.9994\n",
            "Actual_y_test:  [-1 -1 -1 ... -1 -1 -1]\n",
            "predit_y_test:  [-1. -1. -1. ... -1. -1. -1.]\n",
            "testing Accuracy: 0.9780\n",
            "\n",
            "\n",
            "#############################\n",
            "for test_size =  0.8\n",
            "#############################\n",
            "training Accuracy: 0.7316\n",
            "Actual_y_test:  [-1 -1 -1 ...  1 -1 -1]\n",
            "predit_y_test:  [-1. -1. -1. ...  1. -1. -1.]\n",
            "testing Accuracy: 0.7216\n",
            "\n",
            "\n"
          ],
          "name": "stdout"
        }
      ]
    },
    {
      "cell_type": "markdown",
      "metadata": {
        "id": "FH2WF0D9gfIB"
      },
      "source": [
        "# training accuracy on different test size"
      ]
    },
    {
      "cell_type": "code",
      "metadata": {
        "id": "YmJDATO7iuw0",
        "colab": {
          "base_uri": "https://localhost:8080/",
          "height": 241
        },
        "outputId": "c4378dc5-dbce-4c1a-8989-74f4152f00cb"
      },
      "source": [
        "plt.figure(figsize=(6,3))\n",
        "plt.plot(test_size,testsize_train_accuracy,color='maroon')\n",
        "plt.xlabel(\"size of testing data\")\n",
        "plt.ylabel(\"SVM validation accuracy\")\n",
        "plt.title('Accuracy on differnt size of test data', color = 'g')\n",
        "plt.show()"
      ],
      "execution_count": 22,
      "outputs": [
        {
          "output_type": "display_data",
          "data": {
            "image/png": "[encoded data removed]",
            "text/plain": [
              "<Figure size 432x216 with 1 Axes>"
            ]
          },
          "metadata": {
            "tags": [],
            "needs_background": "light"
          }
        }
      ]
    },
    {
      "cell_type": "markdown",
      "metadata": {
        "id": "ld5AZCJxglNk"
      },
      "source": [
        "# Testing accuracy on different test size"
      ]
    },
    {
      "cell_type": "code",
      "metadata": {
        "id": "2dxsuh3SoGk_",
        "colab": {
          "base_uri": "https://localhost:8080/",
          "height": 241
        },
        "outputId": "408df2e1-5303-41f0-bf3e-e01535ebd120"
      },
      "source": [
        "plt.figure(figsize=(6,3))\n",
        "plt.plot(test_size,testsize_test_accuracy)\n",
        "plt.xlabel(\"size of testing data\")\n",
        "plt.ylabel(\"SVM validation accuracy\")\n",
        "plt.title('Accuracy on differnt size of test data', color = 'g')\n",
        "plt.show()"
      ],
      "execution_count": 23,
      "outputs": [
        {
          "output_type": "display_data",
          "data": {
            "image/png": "[encoded data removed]",
            "text/plain": [
              "<Figure size 432x216 with 1 Axes>"
            ]
          },
          "metadata": {
            "tags": [],
            "needs_background": "light"
          }
        }
      ]
    }
  ]
}